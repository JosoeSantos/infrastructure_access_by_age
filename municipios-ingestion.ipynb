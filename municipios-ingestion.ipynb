{
 "cells": [
  {
   "cell_type": "code",
   "execution_count": 34,
   "metadata": {},
   "outputs": [
    {
     "name": "stdout",
     "output_type": "stream",
     "text": [
      "WARNING *** OLE2 inconsistency: SSCS size is 0 but SSAT size is non-zero\n",
      "*** No CODEPAGE record, no encoding_override: will use 'iso-8859-1'\n"
     ]
    }
   ],
   "source": [
    "import pandas as pd\n",
    "import psycopg2\n",
    "\n",
    "conn = psycopg2.connect(\n",
    "  database=\"defaultdb\",\n",
    "                        host=\"ibd-tp1-jssantosqueiroz-badd.f.aivencloud.com\",\n",
    "                        user=\"avnadmin\",\n",
    "                        password=\"\",\n",
    "                        port=\"27074\")\n",
    "df = pd.read_excel('./raw_data/RELATORIO_DTB_BRASIL_MUNICIPIO.xls', skiprows=6)\n",
    "\n",
    "# prints column names\n",
    "# print(df.columns)\n",
    "\n",
    "# base_df = df.loc[:, ['UF', 'Nome_UF', 'Código Município Completo','Município', 'Nome_Município']]\n",
    "\n",
    "query = \"\"\"\n",
    "DROP TABLE IF EXISTS municipios;\n",
    "CREATE TABLE municipios (\n",
    "    uf int REFERENCES estados(cod_uf),\n",
    "    codigo INT PRIMARY KEY UNIQUE NOT NULL,\n",
    "    nome_municipio VARCHAR(255),\n",
    "    codigo_completo INT\n",
    ");\n",
    "\"\"\"\n",
    "\n",
    "\n",
    "for i in range(df.shape[0]):\n",
    "    row = df.iloc[i]\n",
    "    uf = row['UF']\n",
    "    codigo = row['Código Município Completo']\n",
    "    nome_municipio = row['Município']\n",
    "    codigo_completo = row['Código Município Completo']\n",
    "    query += f\"INSERT INTO municipios VALUES ('{uf}', {codigo}, '{nome_municipio}', {codigo_completo});\\n\"\n",
    "    conn.cursor().execute(query)\n",
    "    conn.commit()\n",
    "\n",
    "\n",
    "conn.close()\n"
   ]
  },
  {
   "cell_type": "code",
   "execution_count": null,
   "metadata": {},
   "outputs": [],
   "source": []
  }
 ],
 "metadata": {
  "kernelspec": {
   "display_name": "trab_ibd",
   "language": "python",
   "name": "python3"
  },
  "language_info": {
   "codemirror_mode": {
    "name": "ipython",
    "version": 3
   },
   "file_extension": ".py",
   "mimetype": "text/x-python",
   "name": "python",
   "nbconvert_exporter": "python",
   "pygments_lexer": "ipython3",
   "version": "3.8.20"
  }
 },
 "nbformat": 4,
 "nbformat_minor": 2
}
