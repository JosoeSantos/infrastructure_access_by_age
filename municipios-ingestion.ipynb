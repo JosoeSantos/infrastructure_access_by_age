{
 "cells": [
  {
   "cell_type": "code",
   "execution_count": null,
   "metadata": {},
   "outputs": [
    {
     "name": "stdout",
     "output_type": "stream",
     "text": [
      "Connected to database\n",
      "WARNING *** OLE2 inconsistency: SSCS size is 0 but SSAT size is non-zero\n",
      "*** No CODEPAGE record, no encoding_override: will use 'iso-8859-1'\n",
      "reading excel file\n",
      "creating table\n",
      "table created\n",
      "   fk_cod_uf  codigo           nome_municipio  codigo_completo\n",
      "0         11      15    Alta Floresta D'Oeste          1100015\n",
      "1         11     379  Alto Alegre dos Parecis          1100379\n",
      "2         11     403             Alto Paraíso          1100403\n",
      "3         11     346         Alvorada D'Oeste          1100346\n",
      "4         11      23                Ariquemes          1100023\n"
     ]
    }
   ],
   "source": [
    "import pandas as pd\n",
    "import psycopg2\n",
    "import numpy as np\n",
    "\n",
    "from psycopg2.extensions import register_adapter, AsIs\n",
    "import psycopg2.extras\n",
    "\n",
    "# Function to adapt numpy.int64 to PostgreSQL int\n",
    "def adapt_numpy_int64(numpy_int64):\n",
    "    return AsIs(numpy_int64)\n",
    "\n",
    "# Register the adapter\n",
    "register_adapter(np.int64, adapt_numpy_int64)\n",
    "\n",
    "\n",
    "conn = psycopg2.connect(\n",
    "    database=\"defaultdb\",\n",
    "    host=\"ibd-tp1-jssantosqueiroz-badd.f.aivencloud.com\",\n",
    "    user=\"avnadmin\",\n",
    "    password=\"\",\n",
    "    port=\"27074\")\n",
    "\n",
    "print('Connected to database')\n",
    "\n",
    "try:\n",
    "    df = pd.read_excel(\n",
    "        './raw_data/RELATORIO_DTB_BRASIL_MUNICIPIO.xls', skiprows=6)\n",
    "\n",
    "    print(\"reading excel file\")\n",
    "\n",
    "    # prints column names\n",
    "    # print(df.columns)\n",
    "\n",
    "    base_df = df.loc[:, ['UF', 'Nome_UF',\n",
    "                        'Código Município Completo', 'Município', 'Nome_Município']]\n",
    "    base_df\n",
    "    query = \"\"\"\n",
    "    DROP TABLE IF EXISTS municipios;\n",
    "    CREATE TABLE municipios (\n",
    "        fk_cod_uf int ,\n",
    "        codigo varchar(5),\n",
    "        nome_municipio VARCHAR(255),\n",
    "        codigo_completo char(7) PRIMARY KEY UNIQUE NOT NULL,\n",
    "        CONSTRAINT fk_cod_uf FOREIGN KEY (fk_cod_uf) REFERENCES estados(cod_uf)\n",
    "\n",
    "    );\n",
    "    \"\"\"\n",
    "    print(\"creating table\")\n",
    "    cur = conn.cursor()\n",
    "    cur.execute(query)\n",
    "    print(\"table created\")\n",
    "    df = df[['UF', 'Município' , 'Nome_Município','Código Município Completo']]\n",
    "    df.columns = ['fk_cod_uf', 'codigo', 'nome_municipio', 'codigo_completo']\n",
    "    print(df.head())\n",
    "    psycopg2.extras.execute_values(\n",
    "        cur,\n",
    "        \"\"\"\n",
    "        INSERT INTO municipios\n",
    "            (fk_cod_uf, codigo, nome_municipio, codigo_completo) VALUES %s\n",
    "        \"\"\", df.itertuples(index=False, name=None)\n",
    "    )\n",
    "\n",
    "    conn.commit()\n",
    "    conn.close()\n",
    "except Exception as e:\n",
    "    print(e)\n",
    "    print(e.query)\n",
    "    print('Error on query')\n",
    "    conn.close()"
   ]
  },
  {
   "cell_type": "code",
   "execution_count": null,
   "metadata": {},
   "outputs": [],
   "source": []
  }
 ],
 "metadata": {
  "kernelspec": {
   "display_name": "trab_ibd",
   "language": "python",
   "name": "python3"
  },
  "language_info": {
   "codemirror_mode": {
    "name": "ipython",
    "version": 3
   },
   "file_extension": ".py",
   "mimetype": "text/x-python",
   "name": "python",
   "nbconvert_exporter": "python",
   "pygments_lexer": "ipython3",
   "version": "3.8.20"
  }
 },
 "nbformat": 4,
 "nbformat_minor": 2
}
