{
 "cells": [
  {
   "cell_type": "code",
   "execution_count": null,
   "metadata": {},
   "outputs": [],
   "source": [
    "import pandas as pd\n",
    "import psycopg2\n",
    "\n",
    "conn = psycopg2.connect(\n",
    "  database=\"defaultdb\",\n",
    "                        host=\"ibd-tp1-jssantosqueiroz-badd.f.aivencloud.com\",\n",
    "                        user=\"avnadmin\",\n",
    "                        password=\"<hidden>\",\n",
    "                        port=\"27074\")\n",
    "## Ler um csv, caso exista mais de um arquivo, pode-se usar o argumento 'sheet_name' para especificar qual arquivo ler\n",
    "\n",
    "\n",
    "df = pd.read_csv('raw_data/estados-ufs.csv')\n",
    "\n",
    "## Criar sql query para criar a tabela\n",
    "query = \"\"\"\n",
    "DROP TABLE IF EXISTS estados;\n",
    "CREATE TABLE estados (\n",
    "    uf VARCHAR(2),\n",
    "    nome VARCHAR(50)\n",
    ");\n",
    "\"\"\"\n",
    "\n",
    "### inserir dados na tabela\n",
    "## nesse caso não será necessário fazer a limpeza dos dados mas isso pode ser considerado para outros bancos \n",
    "\n",
    "for i in range(df.shape[0]):\n",
    "    query += f\"INSERT INTO estados VALUES ('{df.iloc[i,2].replace(' ', '')}', '{df.iloc[i,1]}');\\n\"\n",
    "\n",
    "conn.cursor().execute(query)\n",
    "conn.commit()\n",
    "conn.close()\n"
   ]
  }
 ],
 "metadata": {
  "kernelspec": {
   "display_name": "trab_ibd",
   "language": "python",
   "name": "python3"
  },
  "language_info": {
   "codemirror_mode": {
    "name": "ipython",
    "version": 3
   },
   "file_extension": ".py",
   "mimetype": "text/x-python",
   "name": "python",
   "nbconvert_exporter": "python",
   "pygments_lexer": "ipython3",
   "version": "3.9.21"
  }
 },
 "nbformat": 4,
 "nbformat_minor": 2
}
